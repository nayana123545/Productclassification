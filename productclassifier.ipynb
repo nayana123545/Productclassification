{
 "metadata": {
  "language_info": {
   "codemirror_mode": {
    "name": "ipython",
    "version": 3
   },
   "file_extension": ".py",
   "mimetype": "text/x-python",
   "name": "python",
   "nbconvert_exporter": "python",
   "pygments_lexer": "ipython3",
   "version": "3.9.4"
  },
  "orig_nbformat": 2,
  "kernelspec": {
   "name": "python394jvsc74a57bd063fd5069d213b44bf678585dea6b12cceca9941eaf7f819626cde1f2670de90d",
   "display_name": "Python 3.9.4 64-bit"
  },
  "metadata": {
   "interpreter": {
    "hash": "63fd5069d213b44bf678585dea6b12cceca9941eaf7f819626cde1f2670de90d"
   }
  }
 },
 "nbformat": 4,
 "nbformat_minor": 2,
 "cells": [
  {
   "cell_type": "code",
   "execution_count": 1,
   "metadata": {},
   "outputs": [],
   "source": [
    "import pandas as pd\n",
    "from sklearn.model_selection import train_test_split\n",
    "from sklearn.metrics import confusion_matrix\n",
    "from sklearn.metrics import roc_auc_score\n",
    "from sklearn.metrics import classification_report\n",
    "from sklearn.datasets import make_multilabel_classification\n",
    "from sklearn.svm import SVC\n",
    "from sklearn.multioutput import MultiOutputClassifier\n",
    "from sklearn.feature_extraction.text import TfidfVectorizer\n",
    "from sklearn.metrics import accuracy_score,precision_score,recall_score\n",
    "import pickle\n"
   ]
  },
  {
   "cell_type": "code",
   "execution_count": 2,
   "metadata": {},
   "outputs": [
    {
     "output_type": "execute_result",
     "data": {
      "text/plain": [
       "   Unnamed: 0                                              title  \\\n",
       "0           0          \"beetel m13 corded landline phone(black)\"   \n",
       "1           1            \"ge 30011 corded landline phone(black)\"   \n",
       "2           2          \"spctelecom 3016u landline phone(purple)\"   \n",
       "3           3  \"swiss voice vintage 20 corded landline phone(...   \n",
       "4           4  \"binatone concept 810 corded landline phone(bl...   \n",
       "\n",
       "           brand   category_name     group_name  \n",
       "0       \"Beetel\"  \"Other Phones\"  \"Electronics\"  \n",
       "1           \"GE\"  \"Other Phones\"  \"Electronics\"  \n",
       "2   \"SPCtelecom\"  \"Other Phones\"  \"Electronics\"  \n",
       "3  \"Swiss Voice\"  \"Other Phones\"  \"Electronics\"  \n",
       "4     \"Binatone\"  \"Other Phones\"  \"Electronics\"  "
      ],
      "text/html": "<div>\n<style scoped>\n    .dataframe tbody tr th:only-of-type {\n        vertical-align: middle;\n    }\n\n    .dataframe tbody tr th {\n        vertical-align: top;\n    }\n\n    .dataframe thead th {\n        text-align: right;\n    }\n</style>\n<table border=\"1\" class=\"dataframe\">\n  <thead>\n    <tr style=\"text-align: right;\">\n      <th></th>\n      <th>Unnamed: 0</th>\n      <th>title</th>\n      <th>brand</th>\n      <th>category_name</th>\n      <th>group_name</th>\n    </tr>\n  </thead>\n  <tbody>\n    <tr>\n      <th>0</th>\n      <td>0</td>\n      <td>\"beetel m13 corded landline phone(black)\"</td>\n      <td>\"Beetel\"</td>\n      <td>\"Other Phones\"</td>\n      <td>\"Electronics\"</td>\n    </tr>\n    <tr>\n      <th>1</th>\n      <td>1</td>\n      <td>\"ge 30011 corded landline phone(black)\"</td>\n      <td>\"GE\"</td>\n      <td>\"Other Phones\"</td>\n      <td>\"Electronics\"</td>\n    </tr>\n    <tr>\n      <th>2</th>\n      <td>2</td>\n      <td>\"spctelecom 3016u landline phone(purple)\"</td>\n      <td>\"SPCtelecom\"</td>\n      <td>\"Other Phones\"</td>\n      <td>\"Electronics\"</td>\n    </tr>\n    <tr>\n      <th>3</th>\n      <td>3</td>\n      <td>\"swiss voice vintage 20 corded landline phone(...</td>\n      <td>\"Swiss Voice\"</td>\n      <td>\"Other Phones\"</td>\n      <td>\"Electronics\"</td>\n    </tr>\n    <tr>\n      <th>4</th>\n      <td>4</td>\n      <td>\"binatone concept 810 corded landline phone(bl...</td>\n      <td>\"Binatone\"</td>\n      <td>\"Other Phones\"</td>\n      <td>\"Electronics\"</td>\n    </tr>\n  </tbody>\n</table>\n</div>"
     },
     "metadata": {},
     "execution_count": 2
    }
   ],
   "source": [
    "data=pd.read_csv('data_phone_clothes.csv')\n",
    "data.head()"
   ]
  },
  {
   "cell_type": "code",
   "execution_count": 4,
   "metadata": {},
   "outputs": [
    {
     "output_type": "stream",
     "name": "stdout",
     "text": [
      "Unnamed: 0       0\ntitle            0\nbrand            0\ncategory_name    0\ngroup_name       0\ndtype: int64\n"
     ]
    }
   ],
   "source": [
    "print(data.isnull().sum())"
   ]
  },
  {
   "cell_type": "code",
   "execution_count": 6,
   "metadata": {},
   "outputs": [],
   "source": [
    "data['title'] = [entry.lower() for entry in data['title']]\n"
   ]
  },
  {
   "cell_type": "code",
   "execution_count": 7,
   "metadata": {},
   "outputs": [
    {
     "output_type": "execute_result",
     "data": {
      "text/plain": [
       "0                \"beetel m13 corded landline phone(black)\"\n",
       "1                  \"ge 30011 corded landline phone(black)\"\n",
       "2                \"spctelecom 3016u landline phone(purple)\"\n",
       "3        \"swiss voice vintage 20 corded landline phone(...\n",
       "4        \"binatone concept 810 corded landline phone(bl...\n",
       "                               ...                        \n",
       "18416                                           \"tshirts \"\n",
       "18417                                           \"tshirts \"\n",
       "18418                                           \"tshirts \"\n",
       "18419                                           \"tshirts \"\n",
       "18420                                           \"tshirts \"\n",
       "Name: title, Length: 18421, dtype: object"
      ]
     },
     "metadata": {},
     "execution_count": 7
    }
   ],
   "source": [
    "data['title']"
   ]
  },
  {
   "cell_type": "code",
   "execution_count": 8,
   "metadata": {},
   "outputs": [
    {
     "output_type": "execute_result",
     "data": {
      "text/plain": [
       "0                \"beetel m13 corded landline phone(black)\"\n",
       "1                  \"ge 30011 corded landline phone(black)\"\n",
       "2                \"spctelecom 3016u landline phone(purple)\"\n",
       "3        \"swiss voice vintage 20 corded landline phone(...\n",
       "4        \"binatone concept 810 corded landline phone(bl...\n",
       "                               ...                        \n",
       "18416                                           \"tshirts \"\n",
       "18417                                           \"tshirts \"\n",
       "18418                                           \"tshirts \"\n",
       "18419                                           \"tshirts \"\n",
       "18420                                           \"tshirts \"\n",
       "Name: title, Length: 18421, dtype: object"
      ]
     },
     "metadata": {},
     "execution_count": 8
    }
   ],
   "source": [
    "X=data['title']\n",
    "X"
   ]
  },
  {
   "cell_type": "code",
   "execution_count": 9,
   "metadata": {},
   "outputs": [
    {
     "output_type": "execute_result",
     "data": {
      "text/plain": [
       "               brand   category_name     group_name\n",
       "0           \"Beetel\"  \"Other Phones\"  \"Electronics\"\n",
       "1               \"GE\"  \"Other Phones\"  \"Electronics\"\n",
       "2       \"SPCtelecom\"  \"Other Phones\"  \"Electronics\"\n",
       "3      \"Swiss Voice\"  \"Other Phones\"  \"Electronics\"\n",
       "4         \"Binatone\"  \"Other Phones\"  \"Electronics\"\n",
       "...              ...             ...            ...\n",
       "18416         \"puma\"       \"clothes\"     \"clothing\"\n",
       "18417         \"puma\"       \"clothes\"     \"clothing\"\n",
       "18418         \"puma\"       \"clothes\"     \"clothing\"\n",
       "18419         \"puma\"       \"clothes\"     \"clothing\"\n",
       "18420         \"puma\"       \"clothes\"     \"clothing\"\n",
       "\n",
       "[18421 rows x 3 columns]"
      ],
      "text/html": "<div>\n<style scoped>\n    .dataframe tbody tr th:only-of-type {\n        vertical-align: middle;\n    }\n\n    .dataframe tbody tr th {\n        vertical-align: top;\n    }\n\n    .dataframe thead th {\n        text-align: right;\n    }\n</style>\n<table border=\"1\" class=\"dataframe\">\n  <thead>\n    <tr style=\"text-align: right;\">\n      <th></th>\n      <th>brand</th>\n      <th>category_name</th>\n      <th>group_name</th>\n    </tr>\n  </thead>\n  <tbody>\n    <tr>\n      <th>0</th>\n      <td>\"Beetel\"</td>\n      <td>\"Other Phones\"</td>\n      <td>\"Electronics\"</td>\n    </tr>\n    <tr>\n      <th>1</th>\n      <td>\"GE\"</td>\n      <td>\"Other Phones\"</td>\n      <td>\"Electronics\"</td>\n    </tr>\n    <tr>\n      <th>2</th>\n      <td>\"SPCtelecom\"</td>\n      <td>\"Other Phones\"</td>\n      <td>\"Electronics\"</td>\n    </tr>\n    <tr>\n      <th>3</th>\n      <td>\"Swiss Voice\"</td>\n      <td>\"Other Phones\"</td>\n      <td>\"Electronics\"</td>\n    </tr>\n    <tr>\n      <th>4</th>\n      <td>\"Binatone\"</td>\n      <td>\"Other Phones\"</td>\n      <td>\"Electronics\"</td>\n    </tr>\n    <tr>\n      <th>...</th>\n      <td>...</td>\n      <td>...</td>\n      <td>...</td>\n    </tr>\n    <tr>\n      <th>18416</th>\n      <td>\"puma\"</td>\n      <td>\"clothes\"</td>\n      <td>\"clothing\"</td>\n    </tr>\n    <tr>\n      <th>18417</th>\n      <td>\"puma\"</td>\n      <td>\"clothes\"</td>\n      <td>\"clothing\"</td>\n    </tr>\n    <tr>\n      <th>18418</th>\n      <td>\"puma\"</td>\n      <td>\"clothes\"</td>\n      <td>\"clothing\"</td>\n    </tr>\n    <tr>\n      <th>18419</th>\n      <td>\"puma\"</td>\n      <td>\"clothes\"</td>\n      <td>\"clothing\"</td>\n    </tr>\n    <tr>\n      <th>18420</th>\n      <td>\"puma\"</td>\n      <td>\"clothes\"</td>\n      <td>\"clothing\"</td>\n    </tr>\n  </tbody>\n</table>\n<p>18421 rows × 3 columns</p>\n</div>"
     },
     "metadata": {},
     "execution_count": 9
    }
   ],
   "source": [
    "y=data.iloc[:,2:5]\n",
    "y"
   ]
  },
  {
   "cell_type": "code",
   "execution_count": 10,
   "metadata": {},
   "outputs": [],
   "source": [
    "xtrain, xtest, ytrain, ytest=train_test_split(X, y, test_size=0.3, random_state=0)"
   ]
  },
  {
   "cell_type": "code",
   "execution_count": 11,
   "metadata": {},
   "outputs": [
    {
     "output_type": "execute_result",
     "data": {
      "text/plain": [
       "11525    \"sony xperia xa1 ultra dual (white/rainbow whi...\n",
       "11098                       \"lenovo k6 note (gold, 32 gb)\"\n",
       "14068    \"samsung samsung galaxy a5 sm-a520fzkdins,32gb...\n",
       "4252                  \"gionee v4s (black, 8 gb)(1 gb ram)\"\n",
       "16104    \"samsung galaxy s8 (midnight black, 64 gb) (4 ...\n",
       "                               ...                        \n",
       "9225             \"whitecherry mi4 (black, 8 gb)(1 gb ram)\"\n",
       "13123           \"microsoft lumia 640 xl (dual sim, white)\"\n",
       "9845                                \"i kall k-130(yellow)\"\n",
       "10799                        \"ssky k7i(white & rose gold)\"\n",
       "2732     \"samsung galaxy grand neo plus (gold, 8 gb)(1 ...\n",
       "Name: title, Length: 12894, dtype: object"
      ]
     },
     "metadata": {},
     "execution_count": 11
    }
   ],
   "source": [
    "xtrain"
   ]
  },
  {
   "cell_type": "code",
   "execution_count": 12,
   "metadata": {},
   "outputs": [
    {
     "output_type": "execute_result",
     "data": {
      "text/plain": [
       "               brand   category_name     group_name\n",
       "11525         \"Sony\"  \"Smart Phones\"  \"Electronics\"\n",
       "11098       \"Lenovo\"  \"Smart Phones\"  \"Electronics\"\n",
       "14068      \"Samsung\"  \"Smart Phones\"  \"Electronics\"\n",
       "4252        \"Gionee\"  \"Smart Phones\"  \"Electronics\"\n",
       "16104      \"Samsung\"  \"Smart Phones\"  \"Electronics\"\n",
       "...              ...             ...            ...\n",
       "9225   \"Whitecherry\"  \"Smart Phones\"  \"Electronics\"\n",
       "13123    \"Microsoft\"  \"Smart Phones\"  \"Electronics\"\n",
       "9845        \"I Kall\"  \"Smart Phones\"  \"Electronics\"\n",
       "10799         \"Ssky\"  \"Smart Phones\"  \"Electronics\"\n",
       "2732       \"Samsung\"  \"Smart Phones\"  \"Electronics\"\n",
       "\n",
       "[12894 rows x 3 columns]"
      ],
      "text/html": "<div>\n<style scoped>\n    .dataframe tbody tr th:only-of-type {\n        vertical-align: middle;\n    }\n\n    .dataframe tbody tr th {\n        vertical-align: top;\n    }\n\n    .dataframe thead th {\n        text-align: right;\n    }\n</style>\n<table border=\"1\" class=\"dataframe\">\n  <thead>\n    <tr style=\"text-align: right;\">\n      <th></th>\n      <th>brand</th>\n      <th>category_name</th>\n      <th>group_name</th>\n    </tr>\n  </thead>\n  <tbody>\n    <tr>\n      <th>11525</th>\n      <td>\"Sony\"</td>\n      <td>\"Smart Phones\"</td>\n      <td>\"Electronics\"</td>\n    </tr>\n    <tr>\n      <th>11098</th>\n      <td>\"Lenovo\"</td>\n      <td>\"Smart Phones\"</td>\n      <td>\"Electronics\"</td>\n    </tr>\n    <tr>\n      <th>14068</th>\n      <td>\"Samsung\"</td>\n      <td>\"Smart Phones\"</td>\n      <td>\"Electronics\"</td>\n    </tr>\n    <tr>\n      <th>4252</th>\n      <td>\"Gionee\"</td>\n      <td>\"Smart Phones\"</td>\n      <td>\"Electronics\"</td>\n    </tr>\n    <tr>\n      <th>16104</th>\n      <td>\"Samsung\"</td>\n      <td>\"Smart Phones\"</td>\n      <td>\"Electronics\"</td>\n    </tr>\n    <tr>\n      <th>...</th>\n      <td>...</td>\n      <td>...</td>\n      <td>...</td>\n    </tr>\n    <tr>\n      <th>9225</th>\n      <td>\"Whitecherry\"</td>\n      <td>\"Smart Phones\"</td>\n      <td>\"Electronics\"</td>\n    </tr>\n    <tr>\n      <th>13123</th>\n      <td>\"Microsoft\"</td>\n      <td>\"Smart Phones\"</td>\n      <td>\"Electronics\"</td>\n    </tr>\n    <tr>\n      <th>9845</th>\n      <td>\"I Kall\"</td>\n      <td>\"Smart Phones\"</td>\n      <td>\"Electronics\"</td>\n    </tr>\n    <tr>\n      <th>10799</th>\n      <td>\"Ssky\"</td>\n      <td>\"Smart Phones\"</td>\n      <td>\"Electronics\"</td>\n    </tr>\n    <tr>\n      <th>2732</th>\n      <td>\"Samsung\"</td>\n      <td>\"Smart Phones\"</td>\n      <td>\"Electronics\"</td>\n    </tr>\n  </tbody>\n</table>\n<p>12894 rows × 3 columns</p>\n</div>"
     },
     "metadata": {},
     "execution_count": 12
    }
   ],
   "source": [
    "ytrain"
   ]
  },
  {
   "cell_type": "code",
   "execution_count": 13,
   "metadata": {},
   "outputs": [],
   "source": [
    "Tfidf_vect = TfidfVectorizer(max_features=5000)\n",
    "Tfidf_vect.fit(data['title'])\n",
    "xtrain_vec = Tfidf_vect.transform(xtrain)\n",
    "xtest_vec = Tfidf_vect.transform(xtest)\n"
   ]
  },
  {
   "cell_type": "code",
   "execution_count": 15,
   "metadata": {},
   "outputs": [],
   "source": [
    "pickle.dump(Tfidf_vect,open('transform.pkl','wb'))"
   ]
  },
  {
   "cell_type": "code",
   "execution_count": 16,
   "metadata": {},
   "outputs": [
    {
     "output_type": "stream",
     "name": "stdout",
     "text": [
      "  (0, 4809)\t0.313679365811207\n  (0, 4784)\t0.4177918518751996\n  (0, 4477)\t0.3260865639680401\n  (0, 4241)\t0.3348891041162106\n  (0, 3651)\t0.312233884684311\n  (0, 3376)\t0.5216949080134018\n  (0, 2107)\t0.13359520774266959\n  (0, 1741)\t0.21376333507228856\n  (0, 517)\t0.274543340785253\n  (1, 3017)\t0.4361750486468405\n  (1, 2630)\t0.44207668540293216\n  (1, 2509)\t0.6086579897973512\n  (1, 2156)\t0.2675574046537905\n  (1, 2107)\t0.20461302905335058\n  (1, 309)\t0.36111151487244403\n  (2, 3622)\t0.3719477861491532\n  (2, 3610)\t0.4783644880922443\n  (2, 3524)\t0.2636036847509028\n  (2, 2102)\t0.1395401769753498\n  (2, 1141)\t0.13045524565278363\n  (2, 772)\t0.6719406002964754\n  (2, 752)\t0.22853711896032508\n  (2, 313)\t0.15202611985649742\n  (3, 4340)\t0.7734880148517708\n  (3, 3379)\t0.19511284764737435\n  :\t:\n  (12889, 2107)\t0.36905301004482555\n  (12889, 1141)\t0.15964596267781409\n  (12890, 4801)\t0.449859007076925\n  (12890, 4477)\t0.18409104162778964\n  (12890, 3598)\t0.24105748570145832\n  (12890, 2861)\t0.4475702278478643\n  (12890, 2682)\t0.40213225941155856\n  (12890, 1741)\t0.2413587026489366\n  (12890, 518)\t0.5341770909275666\n  (12891, 4863)\t0.48782087089329684\n  (12891, 2526)\t0.4679905289148656\n  (12891, 88)\t0.7368959646835432\n  (12892, 4477)\t0.2099422464538739\n  (12892, 3681)\t0.5543977029945377\n  (12892, 3439)\t0.4002305323456856\n  (12892, 2517)\t0.6616523533349743\n  (12892, 2156)\t0.22494249125689983\n  (12893, 3524)\t0.3091211068464637\n  (12893, 3379)\t0.18078297560993165\n  (12893, 3197)\t0.3187817129547289\n  (12893, 2991)\t0.47907964567240824\n  (12893, 2172)\t0.5049640451860858\n  (12893, 2156)\t0.23121884960730402\n  (12893, 2107)\t0.35364664456660816\n  (12893, 2102)\t0.3272701896935364\n"
     ]
    }
   ],
   "source": [
    "print(xtrain_vec)"
   ]
  },
  {
   "cell_type": "code",
   "execution_count": 17,
   "metadata": {},
   "outputs": [
    {
     "output_type": "stream",
     "name": "stdout",
     "text": [
      "MultiOutputClassifier(estimator=SVC())\n"
     ]
    }
   ],
   "source": [
    "svc = SVC(gamma=\"scale\")\n",
    "model = MultiOutputClassifier(estimator=svc)\n",
    "print(model)"
   ]
  },
  {
   "cell_type": "code",
   "execution_count": 18,
   "metadata": {},
   "outputs": [
    {
     "output_type": "execute_result",
     "data": {
      "text/plain": [
       "MultiOutputClassifier(estimator=SVC())"
      ]
     },
     "metadata": {},
     "execution_count": 18
    }
   ],
   "source": [
    "model.fit(xtrain_vec, ytrain)"
   ]
  },
  {
   "cell_type": "code",
   "execution_count": 19,
   "metadata": {},
   "outputs": [],
   "source": [
    "yhat = model.predict(xtest_vec)"
   ]
  },
  {
   "cell_type": "code",
   "execution_count": 20,
   "metadata": {},
   "outputs": [
    {
     "output_type": "execute_result",
     "data": {
      "text/plain": [
       "array([['\"Infix\"', '\"Smart Phones\"', '\"Electronics\"'],\n",
       "       ['\"Reach\"', '\"Smart Phones\"', '\"Electronics\"'],\n",
       "       ['\"Forme\"', '\"Smart Phones\"', '\"Electronics\"'],\n",
       "       ...,\n",
       "       ['\"Micromax\"', '\"Smart Phones\"', '\"Electronics\"'],\n",
       "       ['\"Micromax\"', '\"Smart Phones\"', '\"Electronics\"'],\n",
       "       ['\"Mtech\"', '\"Smart Phones\"', '\"Electronics\"']], dtype=object)"
      ]
     },
     "metadata": {},
     "execution_count": 20
    }
   ],
   "source": [
    "yhat"
   ]
  },
  {
   "cell_type": "code",
   "execution_count": 21,
   "metadata": {},
   "outputs": [
    {
     "output_type": "stream",
     "name": "stdout",
     "text": [
      "0.9605242748565224\n"
     ]
    }
   ],
   "source": [
    "print(model.score(xtrain_vec, ytrain))"
   ]
  },
  {
   "cell_type": "code",
   "execution_count": 22,
   "metadata": {},
   "outputs": [
    {
     "output_type": "execute_result",
     "data": {
      "text/plain": [
       "               brand   category_name     group_name\n",
       "3256         \"Infix\"  \"Smart Phones\"  \"Electronics\"\n",
       "2984         \"Reach\"  \"Smart Phones\"  \"Electronics\"\n",
       "3169         \"Forme\"  \"Smart Phones\"  \"Electronics\"\n",
       "9281        \"Ismart\"  \"Smart Phones\"  \"Electronics\"\n",
       "1050   \"A Connect Z\"  \"Other Phones\"  \"Electronics\"\n",
       "...              ...             ...            ...\n",
       "3311          \"RAGE\"  \"Smart Phones\"  \"Electronics\"\n",
       "3157           \"HTC\"  \"Smart Phones\"  \"Electronics\"\n",
       "13871     \"Micromax\"  \"Smart Phones\"  \"Electronics\"\n",
       "5943      \"Micromax\"  \"Smart Phones\"  \"Electronics\"\n",
       "10247        \"Mtech\"  \"Smart Phones\"  \"Electronics\"\n",
       "\n",
       "[5527 rows x 3 columns]"
      ],
      "text/html": "<div>\n<style scoped>\n    .dataframe tbody tr th:only-of-type {\n        vertical-align: middle;\n    }\n\n    .dataframe tbody tr th {\n        vertical-align: top;\n    }\n\n    .dataframe thead th {\n        text-align: right;\n    }\n</style>\n<table border=\"1\" class=\"dataframe\">\n  <thead>\n    <tr style=\"text-align: right;\">\n      <th></th>\n      <th>brand</th>\n      <th>category_name</th>\n      <th>group_name</th>\n    </tr>\n  </thead>\n  <tbody>\n    <tr>\n      <th>3256</th>\n      <td>\"Infix\"</td>\n      <td>\"Smart Phones\"</td>\n      <td>\"Electronics\"</td>\n    </tr>\n    <tr>\n      <th>2984</th>\n      <td>\"Reach\"</td>\n      <td>\"Smart Phones\"</td>\n      <td>\"Electronics\"</td>\n    </tr>\n    <tr>\n      <th>3169</th>\n      <td>\"Forme\"</td>\n      <td>\"Smart Phones\"</td>\n      <td>\"Electronics\"</td>\n    </tr>\n    <tr>\n      <th>9281</th>\n      <td>\"Ismart\"</td>\n      <td>\"Smart Phones\"</td>\n      <td>\"Electronics\"</td>\n    </tr>\n    <tr>\n      <th>1050</th>\n      <td>\"A Connect Z\"</td>\n      <td>\"Other Phones\"</td>\n      <td>\"Electronics\"</td>\n    </tr>\n    <tr>\n      <th>...</th>\n      <td>...</td>\n      <td>...</td>\n      <td>...</td>\n    </tr>\n    <tr>\n      <th>3311</th>\n      <td>\"RAGE\"</td>\n      <td>\"Smart Phones\"</td>\n      <td>\"Electronics\"</td>\n    </tr>\n    <tr>\n      <th>3157</th>\n      <td>\"HTC\"</td>\n      <td>\"Smart Phones\"</td>\n      <td>\"Electronics\"</td>\n    </tr>\n    <tr>\n      <th>13871</th>\n      <td>\"Micromax\"</td>\n      <td>\"Smart Phones\"</td>\n      <td>\"Electronics\"</td>\n    </tr>\n    <tr>\n      <th>5943</th>\n      <td>\"Micromax\"</td>\n      <td>\"Smart Phones\"</td>\n      <td>\"Electronics\"</td>\n    </tr>\n    <tr>\n      <th>10247</th>\n      <td>\"Mtech\"</td>\n      <td>\"Smart Phones\"</td>\n      <td>\"Electronics\"</td>\n    </tr>\n  </tbody>\n</table>\n<p>5527 rows × 3 columns</p>\n</div>"
     },
     "metadata": {},
     "execution_count": 22
    }
   ],
   "source": [
    "ytest"
   ]
  },
  {
   "cell_type": "code",
   "execution_count": 23,
   "metadata": {},
   "outputs": [
    {
     "output_type": "execute_result",
     "data": {
      "text/plain": [
       "3256           \"Infix\"\n",
       "2984           \"Reach\"\n",
       "3169           \"Forme\"\n",
       "9281          \"Ismart\"\n",
       "1050     \"A Connect Z\"\n",
       "             ...      \n",
       "3311            \"RAGE\"\n",
       "3157             \"HTC\"\n",
       "13871       \"Micromax\"\n",
       "5943        \"Micromax\"\n",
       "10247          \"Mtech\"\n",
       "Name: brand, Length: 5527, dtype: object"
      ]
     },
     "metadata": {},
     "execution_count": 23
    }
   ],
   "source": [
    "ytest.iloc[:,0]"
   ]
  },
  {
   "cell_type": "code",
   "execution_count": 24,
   "metadata": {},
   "outputs": [
    {
     "output_type": "execute_result",
     "data": {
      "text/plain": [
       "array(['\"Infix\"', '\"Reach\"', '\"Forme\"', ..., '\"Micromax\"', '\"Micromax\"',\n",
       "       '\"Mtech\"'], dtype=object)"
      ]
     },
     "metadata": {},
     "execution_count": 24
    }
   ],
   "source": [
    "ytest.iloc[:,0].values"
   ]
  },
  {
   "cell_type": "code",
   "execution_count": 25,
   "metadata": {},
   "outputs": [
    {
     "output_type": "execute_result",
     "data": {
      "text/plain": [
       "array([['\"Infix\"', '\"Smart Phones\"'],\n",
       "       ['\"Reach\"', '\"Smart Phones\"'],\n",
       "       ['\"Forme\"', '\"Smart Phones\"'],\n",
       "       ...,\n",
       "       ['\"Micromax\"', '\"Smart Phones\"'],\n",
       "       ['\"Micromax\"', '\"Smart Phones\"'],\n",
       "       ['\"Mtech\"', '\"Smart Phones\"']], dtype=object)"
      ]
     },
     "metadata": {},
     "execution_count": 25
    }
   ],
   "source": [
    "ytest.iloc[:,:-1].values"
   ]
  },
  {
   "cell_type": "code",
   "execution_count": 26,
   "metadata": {},
   "outputs": [],
   "source": [
    "ytest_numpyarray=ytest.to_numpy()"
   ]
  },
  {
   "cell_type": "code",
   "execution_count": 27,
   "metadata": {},
   "outputs": [
    {
     "output_type": "execute_result",
     "data": {
      "text/plain": [
       "array([['\"Infix\"', '\"Smart Phones\"', '\"Electronics\"'],\n",
       "       ['\"Reach\"', '\"Smart Phones\"', '\"Electronics\"'],\n",
       "       ['\"Forme\"', '\"Smart Phones\"', '\"Electronics\"'],\n",
       "       ...,\n",
       "       ['\"Micromax\"', '\"Smart Phones\"', '\"Electronics\"'],\n",
       "       ['\"Micromax\"', '\"Smart Phones\"', '\"Electronics\"'],\n",
       "       ['\"Mtech\"', '\"Smart Phones\"', '\"Electronics\"']], dtype=object)"
      ]
     },
     "metadata": {},
     "execution_count": 27
    }
   ],
   "source": [
    "ytest_numpyarray"
   ]
  },
  {
   "cell_type": "code",
   "execution_count": 28,
   "metadata": {},
   "outputs": [
    {
     "output_type": "stream",
     "name": "stdout",
     "text": [
      "SVM Accuracy Score ->  90.88112900307581\n",
      "SVM precision Score ->  88.23151106701542\n",
      "SVM recall Score ->  90.88112900307581\n",
      "C:\\Python39\\lib\\site-packages\\sklearn\\metrics\\_classification.py:1245: UndefinedMetricWarning: Precision is ill-defined and being set to 0.0 in labels with no predicted samples. Use `zero_division` parameter to control this behavior.\n",
      "  _warn_prf(average, modifier, msg_start, len(result))\n"
     ]
    }
   ],
   "source": [
    "print(\"SVM Accuracy Score -> \",accuracy_score(ytest_numpyarray[:,0],yhat[:,0])*100)     \n",
    "print(\"SVM precision Score -> \",precision_score(ytest_numpyarray[:,0],yhat[:,0],average='weighted')*100)  \n",
    "print(\"SVM recall Score -> \",recall_score(ytest_numpyarray[:,0],yhat[:,0],average='weighted')*100) "
   ]
  },
  {
   "cell_type": "code",
   "execution_count": 29,
   "metadata": {},
   "outputs": [
    {
     "output_type": "stream",
     "name": "stdout",
     "text": [
      "SVM Accuracy Score ->  99.3305590736385\nSVM precision Score ->  99.32782588593926\nSVM recall Score ->  99.3305590736385\n"
     ]
    }
   ],
   "source": [
    "print(\"SVM Accuracy Score -> \",accuracy_score(ytest_numpyarray[:,1],yhat[:,1])*100)     \n",
    "print(\"SVM precision Score -> \",precision_score(ytest_numpyarray[:,1],yhat[:,1],average='weighted')*100)  \n",
    "print(\"SVM recall Score -> \",recall_score(ytest_numpyarray[:,1],yhat[:,1],average='weighted')*100) "
   ]
  },
  {
   "cell_type": "code",
   "execution_count": 30,
   "metadata": {},
   "outputs": [
    {
     "output_type": "stream",
     "name": "stdout",
     "text": [
      "SVM Accuracy Score ->  99.98190700199024\nSVM precision Score ->  99.98191028030115\nSVM recall Score ->  99.98190700199024\n"
     ]
    }
   ],
   "source": [
    "print(\"SVM Accuracy Score -> \",accuracy_score(ytest_numpyarray[:,2],yhat[:,2])*100)     \n",
    "print(\"SVM precision Score -> \",precision_score(ytest_numpyarray[:,2],yhat[:,2],average='weighted')*100)  \n",
    "print(\"SVM recall Score -> \",recall_score(ytest_numpyarray[:,2],yhat[:,2],average='weighted')*100) "
   ]
  },
  {
   "cell_type": "code",
   "execution_count": 31,
   "metadata": {},
   "outputs": [],
   "source": [
    "file=open('product_classification.pkl','wb')\n",
    "pickle.dump(model,file)"
   ]
  },
  {
   "cell_type": "code",
   "execution_count": 32,
   "metadata": {},
   "outputs": [
    {
     "output_type": "stream",
     "name": "stdout",
     "text": [
      "[['\"Samsung\"' '\"Smart Phones\"' '\"Electronics\"']]\n"
     ]
    }
   ],
   "source": [
    "inp1=Tfidf_vect.transform(['Samsung galaxy  onnxt series 64gb'])\n",
    "print(model.predict(inp1))"
   ]
  }
 ]
}